{
 "cells": [
  {
   "cell_type": "code",
   "execution_count": 1,
   "id": "534c64ce-4f7b-4c9e-babe-fcf28b2edb0a",
   "metadata": {},
   "outputs": [
    {
     "name": "stdout",
     "output_type": "stream",
     "text": [
      "Hello World\n"
     ]
    }
   ],
   "source": [
    "print(\"Hello World\")"
   ]
  },
  {
   "cell_type": "code",
   "execution_count": 2,
   "id": "31cecc91-569a-4b30-b62c-1f095c13a4a2",
   "metadata": {},
   "outputs": [],
   "source": [
    "import matplotlib.pyplot as plt"
   ]
  },
  {
   "cell_type": "code",
   "execution_count": 3,
   "id": "3a854566-02c2-40d4-b8ea-501aa10655ce",
   "metadata": {},
   "outputs": [],
   "source": [
    "import numpy as np\n",
    "import pandas as pd"
   ]
  },
  {
   "cell_type": "code",
   "execution_count": null,
   "id": "d8d58a9c-a917-475a-9bf8-ffc5336f67c7",
   "metadata": {},
   "outputs": [],
   "source": [
    "Project Euler Problems"
   ]
  },
  {
   "cell_type": "code",
   "execution_count": null,
   "id": "c7e16216-704a-489f-be0e-1247a8e9a459",
   "metadata": {},
   "outputs": [],
   "source": [
    "Problem #1:"
   ]
  },
  {
   "cell_type": "code",
   "execution_count": 23,
   "id": "40f1f98b-3755-48c4-bfeb-6b9e5c8f38e4",
   "metadata": {},
   "outputs": [
    {
     "name": "stdout",
     "output_type": "stream",
     "text": [
      "233168\n"
     ]
    }
   ],
   "source": [
    "multiples_3_5 = []\n",
    "for i in range(1,1000,1):\n",
    "    if (i%3==0 or i%5 ==0):\n",
    "        multiples_3_5.append(i)\n",
    "print(sum(multiples_3_5))\n"
   ]
  },
  {
   "cell_type": "code",
   "execution_count": null,
   "id": "48d2f19a-641e-4475-8491-bf943c2e6420",
   "metadata": {},
   "outputs": [],
   "source": [
    "Problem #2 - why wont the indexing work here like R"
   ]
  },
  {
   "cell_type": "code",
   "execution_count": 48,
   "id": "d2079c94-300f-4e33-ab5b-e32c38b05a13",
   "metadata": {},
   "outputs": [
    {
     "name": "stdout",
     "output_type": "stream",
     "text": [
      "Hello World\n"
     ]
    }
   ],
   "source": [
    "print(\"Hello World\")"
   ]
  },
  {
   "cell_type": "code",
   "execution_count": 51,
   "id": "533d5a1c-10c7-4a50-a615-862de4fd4008",
   "metadata": {},
   "outputs": [
    {
     "name": "stdout",
     "output_type": "stream",
     "text": [
      "4613732\n"
     ]
    }
   ],
   "source": [
    "fib_seq = [0,1]\n",
    "while True:\n",
    "    fib_seq_next = fib_seq[-1] + fib_seq[-2]\n",
    "    if fib_seq_next >= 4000000:\n",
    "        break\n",
    "    fib_seq.append(fib_seq_next)\n",
    "\n",
    "even_fib_seq = []\n",
    "for x in fib_seq:\n",
    "    if x%2 == 0:\n",
    "        even_fib_seq.append(x)\n",
    "print(sum(even_fib_seq))"
   ]
  },
  {
   "cell_type": "raw",
   "id": "3df7b02d-2435-4c23-bdd6-77b4cb4f709a",
   "metadata": {},
   "source": [
    "Problem #3"
   ]
  },
  {
   "cell_type": "code",
   "execution_count": 63,
   "id": "253284c5-515e-43dd-998a-2edc0fcd7b1b",
   "metadata": {},
   "outputs": [],
   "source": [
    "def prime_factor_calc(n):\n",
    "    factors = []\n",
    "    while n%2 == 0:\n",
    "        factors.append(2)\n",
    "        n//=2\n",
    "    factor = 3\n",
    "    while factor^2 <= n:\n",
    "        while n%factor == 0:\n",
    "            factors.append(factor)\n",
    "            n//=factor\n",
    "        factor+=2\n",
    "    if n>2:\n",
    "        factors.append(n)\n",
    "        \n",
    "    return factors"
   ]
  },
  {
   "cell_type": "code",
   "execution_count": 65,
   "id": "9bee9ac8-8fcd-4a89-aecf-226e41c9ca5a",
   "metadata": {},
   "outputs": [
    {
     "data": {
      "text/plain": [
       "[71, 839, 1471, 6857]"
      ]
     },
     "execution_count": 65,
     "metadata": {},
     "output_type": "execute_result"
    }
   ],
   "source": [
    "prime_factor_calc(600851475143)"
   ]
  },
  {
   "cell_type": "code",
   "execution_count": null,
   "id": "74d31196-d424-4bc4-8152-d0d4733294db",
   "metadata": {},
   "outputs": [],
   "source": [
    "Check "
   ]
  },
  {
   "cell_type": "code",
   "execution_count": 64,
   "id": "8303f0d2-8c02-4015-acc7-9ee9b0f7d6fe",
   "metadata": {},
   "outputs": [
    {
     "data": {
      "text/plain": [
       "[5, 7, 13, 29]"
      ]
     },
     "execution_count": 64,
     "metadata": {},
     "output_type": "execute_result"
    }
   ],
   "source": [
    "prime_factor_calc(13195)"
   ]
  },
  {
   "cell_type": "code",
   "execution_count": null,
   "id": "9a2255b8-3b8e-4a07-8ee7-31c0ba154139",
   "metadata": {},
   "outputs": [],
   "source": [
    "np.random.normal("
   ]
  }
 ],
 "metadata": {
  "kernelspec": {
   "display_name": "Python 3 (ipykernel)",
   "language": "python",
   "name": "python3"
  },
  "language_info": {
   "codemirror_mode": {
    "name": "ipython",
    "version": 3
   },
   "file_extension": ".py",
   "mimetype": "text/x-python",
   "name": "python",
   "nbconvert_exporter": "python",
   "pygments_lexer": "ipython3",
   "version": "3.12.5"
  }
 },
 "nbformat": 4,
 "nbformat_minor": 5
}
